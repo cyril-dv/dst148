{
 "cells": [
  {
   "attachments": {},
   "cell_type": "markdown",
   "metadata": {},
   "source": [
    "# A number guessing game"
   ]
  },
  {
   "cell_type": "code",
   "execution_count": 12,
   "metadata": {},
   "outputs": [],
   "source": [
    "import numpy as np\n",
    "np.set_printoptions(suppress=True, precision=4)\n",
    "rng = np.random.default_rng(seed=12345)"
   ]
  },
  {
   "cell_type": "code",
   "execution_count": 13,
   "metadata": {},
   "outputs": [],
   "source": [
    "def predict_number(number: int=1) -> int:\n",
    "    \"\"\"\n",
    "    Returns the number of attempts that were made to guess \n",
    "    a random number between 1 and 100.\n",
    "\n",
    "    Parameters:\n",
    "    -----------\n",
    "    a (int): An integer in range [1, 100]\n",
    "\n",
    "    Returns:\n",
    "    --------\n",
    "    count (int): Number of attempts made\n",
    "    \"\"\"\n",
    "\n",
    "    lower_bound = 1\n",
    "    upper_bound = 100\n",
    "    count = 0\n",
    "    all_nums = np.arange(lower_bound, upper_bound+1)\n",
    "    guess = np.int32(all_nums.size/2)\n",
    "\n",
    "    while True:\n",
    "        count += 1\n",
    "        if number > guess:\n",
    "            all_nums = all_nums[np.int32(all_nums.size/2):]\n",
    "            guess = all_nums[np.int32(all_nums.size/2)]\n",
    "        elif number < guess:\n",
    "            all_nums = all_nums[:np.int32(all_nums.size/2)]\n",
    "            guess = all_nums[np.int32(all_nums.size/2)]\n",
    "        else:\n",
    "            break\n",
    "    return count"
   ]
  },
  {
   "cell_type": "code",
   "execution_count": 14,
   "metadata": {},
   "outputs": [
    {
     "name": "stdout",
     "output_type": "stream",
     "text": [
      "Attempts made: 6\n"
     ]
    }
   ],
   "source": [
    "print(f'Attempts made: {predict_number(8)}')"
   ]
  },
  {
   "cell_type": "code",
   "execution_count": 15,
   "metadata": {},
   "outputs": [],
   "source": [
    "def score_game(predict_number: callable) -> int:\n",
    "    \"\"\"\n",
    "    Returns the average number of attempts that were made to guess \n",
    "    a random number between 0 and 100 over 1000 trials.\n",
    "\n",
    "    Parameters:\n",
    "    -----------\n",
    "    predict_number (callable): A function that predicts the number\n",
    "\n",
    "    Returns:\n",
    "    --------\n",
    "    avr_count (int): Average number of attempts made over 1000 trials\n",
    "    \"\"\"\n",
    "\n",
    "    attempts = []\n",
    "    nums_sample = rng.integers(1, 101, size=(1000), dtype=np.int32)\n",
    "\n",
    "    for number in nums_sample:\n",
    "        attempts.append(predict_number(number))\n",
    "\n",
    "    avr_count = np.int32(np.ceil((np.mean(attempts))))\n",
    "    return(avr_count)"
   ]
  },
  {
   "cell_type": "code",
   "execution_count": 16,
   "metadata": {},
   "outputs": [
    {
     "name": "stdout",
     "output_type": "stream",
     "text": [
      "Average number of attempts needed to guess a number: 6\n"
     ]
    }
   ],
   "source": [
    "print(f'Average number of attempts needed to guess a number: {score_game(predict_number)}')"
   ]
  }
 ],
 "metadata": {
  "kernelspec": {
   "display_name": "Python 3.9.15 ('base')",
   "language": "python",
   "name": "python3"
  },
  "language_info": {
   "codemirror_mode": {
    "name": "ipython",
    "version": 3
   },
   "file_extension": ".py",
   "mimetype": "text/x-python",
   "name": "python",
   "nbconvert_exporter": "python",
   "pygments_lexer": "ipython3",
   "version": "3.9.15"
  },
  "orig_nbformat": 4,
  "vscode": {
   "interpreter": {
    "hash": "71aab76894ccd7da800143af8a6fdd606722031a39bb4bd53e17bf882d95cd66"
   }
  }
 },
 "nbformat": 4,
 "nbformat_minor": 2
}
